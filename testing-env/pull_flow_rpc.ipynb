{
 "cells": [
  {
   "cell_type": "code",
   "execution_count": 2,
   "id": "affa926f259653e0",
   "metadata": {
    "ExecuteTime": {
     "end_time": "2025-10-23T13:11:32.789266Z",
     "start_time": "2025-10-23T13:11:32.661372Z"
    }
   },
   "outputs": [
    {
     "name": "stdout",
     "output_type": "stream",
     "text": [
      "/Users/apabook/Desktop/gmv_rainbow/.venv/bin/python\n"
     ]
    }
   ],
   "source": [
    "!which python"
   ]
  },
  {
   "cell_type": "code",
   "execution_count": 39,
   "id": "68e1fe621d8a0ef0",
   "metadata": {
    "ExecuteTime": {
     "end_time": "2025-10-23T13:11:34.472145Z",
     "start_time": "2025-10-23T13:11:32.813546Z"
    }
   },
   "outputs": [],
   "source": [
    "import requests\n",
    "import json\n",
    "import pandas as pd\n",
    "from urllib.error import HTTPError, URLError"
   ]
  },
  {
   "cell_type": "markdown",
   "id": "bc15da9211b43e67",
   "metadata": {},
   "source": [
    "# Complete dataspace flow"
   ]
  },
  {
   "cell_type": "markdown",
   "id": "b0f6ecdf966b8b68",
   "metadata": {},
   "source": [
    "## Consts\n"
   ]
  },
  {
   "cell_type": "code",
   "execution_count": 40,
   "id": "f55ce154aa95c49d",
   "metadata": {
    "ExecuteTime": {
     "end_time": "2025-10-23T13:11:34.520658Z",
     "start_time": "2025-10-23T13:11:34.518112Z"
    }
   },
   "outputs": [],
   "source": [
    "data_space_provider = \"http://127.0.0.1:1200\"\n",
    "data_space_consumer = \"http://127.0.0.1:1100\"\n",
    "api_endpoint = \"https://jsonplaceholder.typicode.com/comments\"\n",
    "\n",
    "data_space_provider_participant_id = \"\"\n",
    "data_space_provider_participant_token = \"\"\n",
    "data_space_consumer_participant_id = \"\"\n",
    "data_space_consumer_participant_token = \"\"\n",
    "catalog_id = \"\"\n",
    "dataset_id = \"\"\n",
    "distribution_id = \"\"\n",
    "data_service_id = \"\"\n",
    "policy_id = \"\"\n",
    "target_id = \"\"\n",
    "\n",
    "cn_consumer_id = \"\"\n",
    "cn_provider_id = \"\"\n",
    "agreement_id = \"\"\n",
    "transfer_consumer_id = \"\"\n",
    "transfer_provider_id = \"\"\n",
    "consumer_data_address = \"\"\n",
    "\n",
    "json_header = {\n",
    "    \"Content-Type\": \"application/json\",\n",
    "}"
   ]
  },
  {
   "cell_type": "code",
   "execution_count": 41,
   "id": "37a80ed7",
   "metadata": {},
   "outputs": [],
   "source": [
    "def replace_host_docker_internal(url: str) -> str:\n",
    "    return url.replace(\"host.docker.internal\", \"127.0.0.1\")"
   ]
  },
  {
   "cell_type": "markdown",
   "id": "496a76b6de3279c7",
   "metadata": {},
   "source": [
    "### Provider and Consumer ids"
   ]
  },
  {
   "cell_type": "code",
   "execution_count": 42,
   "id": "63286f13d2c118cd",
   "metadata": {
    "ExecuteTime": {
     "end_time": "2025-10-23T13:11:46.263076Z",
     "start_time": "2025-10-23T13:11:46.210929Z"
    }
   },
   "outputs": [
    {
     "name": "stdout",
     "output_type": "stream",
     "text": [
      "[\n",
      "    {\n",
      "        \"participant_id\": \"did:jwk:eyJrdHkiOiJSU0EiLCJlIjoiQVFBQiIsIm4iOiJ4T0F3WlpkQ3AwQ0dCQV9tMVVHR1VXcEM5THJlcmJjbDMxblJoZThzNzd6R204aXA3YUgtUW5NNUNLbEo1YXlvUDhKTV9rLWhVQ0V2Q09qNWw5VmNhN0RfNTdRMjRJUEtHN0dQSGdnYzZ5bGxwZFlnSkVlY2xUcXJGcjdGUFBxcThDQzY1WVpfS1hGY3ByOHJGRVFEUGtkc3gzbU1qTkYzQUpNNzBpaEItdGtOOWxxcHZLb0h6MzJRaHRybVhFY2t1X1NtVFlFTU9GVU0xd0I1TE4xNmN4ZzIxZXYwMnZGdlVCYmdWZENTNHZocjNHNlNMM2dPZXVzd3BZaTZtTTZ6clloY3lkaDJaRjZCUEZVMS1NNk9tcENGRnd6SFVWNTdqMHJMLUR0OU1Ja1FUWmxXam5kcVVOZG1Ecnlyd0E1OU8zS1lWYWY5cmUwdW9QS3ZGUmRmY3cifQ\",\n",
      "        \"participant_slug\": \"rainbow_consumer\",\n",
      "        \"participant_type\": \"Consumer\",\n",
      "        \"base_url\": \"http://host.docker.internal:1100\",\n",
      "        \"token\": \"fZzLX4aXUvdX8gTVjw0FzL864g7um9xEfOzdJoE-fIA\",\n",
      "        \"saved_at\": \"2025-10-23T13:09:11.181925\",\n",
      "        \"last_interaction\": \"2025-10-23T13:09:11.181927\",\n",
      "        \"is_me\": false\n",
      "    },\n",
      "    {\n",
      "        \"participant_id\": \"did:jwk:eyJrdHkiOiJSU0EiLCJlIjoiQVFBQiIsIm4iOiIwLW5uempxdDNQVXZtMUVPaEVxNUNxQ05WcEVUM3I4S0Y3VWRKSDJlRFV1dDNhSFlFWGFxbG51SXZ4TUVmN0J1dkhMVnlUaW95U1BoMV9TaDF0ZnBwdF9aNXpXU1ZZUGp0ekZ0QlJsQ0pQYzNfc2YtelRIQURMMmNyYW84WmxXa1FFR2ZtX1g3Y2QtMkd5bmVuR0k0a01rLU9vRERUWEJNRmVoOVdtR1dyMGZBeHJ4Qkp3Unh4QTExODNIOWo1QkY3dlpVZ0Y3akYzV28xcVlva0Z4emJ0Q2FhWWkzTmE3aFYtWWRIYkg3QUhkYnlJa1JvTHhhVG9tb3ktRHRmb0dSSGRzTmpzNDFqZUwxTG5XczJENnVJMm43QTBFQ1hIaHJjZTlMbkt6eXNMWktRM3Ffa2hxR0UzRTZJT1djajRMT1NvNGJ4SXktZzNVT0NpeElSelJ2bFEifQ\",\n",
      "        \"participant_slug\": \"Myself\",\n",
      "        \"participant_type\": \"Provider\",\n",
      "        \"base_url\": \"http://host.docker.internal:1200\",\n",
      "        \"token\": null,\n",
      "        \"saved_at\": \"2025-10-23T12:57:04.293514\",\n",
      "        \"last_interaction\": \"2025-10-23T13:11:38.813271\",\n",
      "        \"is_me\": true\n",
      "    }\n",
      "]\n"
     ]
    }
   ],
   "source": [
    "url = data_space_provider + \"/api/v1/mates\"\n",
    "response = requests.request(\"GET\", url, headers=json_header)\n",
    "response_as_json = response.json()\n",
    "\n",
    "for participant in response_as_json:\n",
    "    if participant.get(\"participant_type\") == \"Consumer\":\n",
    "        data_space_consumer_participant_id = participant[\"participant_id\"]\n",
    "        data_space_consumer_participant_token = participant[\"token\"]\n",
    "        break\n",
    "\n",
    "print(json.dumps(response_as_json, indent=4))"
   ]
  },
  {
   "cell_type": "code",
   "execution_count": 43,
   "id": "163378c48a331362",
   "metadata": {
    "ExecuteTime": {
     "end_time": "2025-10-23T13:11:50.469417Z",
     "start_time": "2025-10-23T13:11:50.435745Z"
    }
   },
   "outputs": [
    {
     "name": "stdout",
     "output_type": "stream",
     "text": [
      "[\n",
      "    {\n",
      "        \"participant_id\": \"did:jwk:eyJrdHkiOiJSU0EiLCJlIjoiQVFBQiIsIm4iOiJtcHBQUnNOOURBSmZDNDNnaWNPSUZLTzBsT3l5d3lZSHZfcGZYWU4xNUhsRGVXOXZPZU9UVjBzTWdYUjZNMkJLc3pncG1aVldMRzMyMG9LdWUycHAwRE5xNW45Y0NTdG1hZkgzMDVzcS1TelNOOFl0WW4zbEhYNjhoUGN0SWlfT3JsSHN4azJfRlVsemlnT1RIeVJwM0RVeS0wd0JmRk9FaDlUa2xXNFlyVFJiYmF0aDNNUTgwTDBaYVljeTlFZEZvZXdBYXFmUVhSU1IwcXQ4bnJnZ21wdV9mcGcya3FldmtybGhQWHFTSmVEYjBZTUE4V3Bvb0J2MWw0dmFoNXU3enFBY3ptVExUcWctM3pTYjBzb3JsMExqaXp2TEdIRFQ5cjZNRnNfVXBLTF8wVkE2U2ZmdFF4T3BxcmxQemV0UnczMm5lbUlkWDk5RWMzVy1rZkh0dXcifQ\",\n",
      "        \"participant_slug\": \"authority\",\n",
      "        \"participant_type\": \"Authority\",\n",
      "        \"base_url\": \"http://host.docker.internal:1500\",\n",
      "        \"token\": null,\n",
      "        \"saved_at\": \"2025-10-23T13:00:38.460546\",\n",
      "        \"last_interaction\": \"2025-10-23T13:09:00.593558\",\n",
      "        \"is_me\": false\n",
      "    },\n",
      "    {\n",
      "        \"participant_id\": \"did:jwk:eyJrdHkiOiJSU0EiLCJlIjoiQVFBQiIsIm4iOiIwLW5uempxdDNQVXZtMUVPaEVxNUNxQ05WcEVUM3I4S0Y3VWRKSDJlRFV1dDNhSFlFWGFxbG51SXZ4TUVmN0J1dkhMVnlUaW95U1BoMV9TaDF0ZnBwdF9aNXpXU1ZZUGp0ekZ0QlJsQ0pQYzNfc2YtelRIQURMMmNyYW84WmxXa1FFR2ZtX1g3Y2QtMkd5bmVuR0k0a01rLU9vRERUWEJNRmVoOVdtR1dyMGZBeHJ4Qkp3Unh4QTExODNIOWo1QkY3dlpVZ0Y3akYzV28xcVlva0Z4emJ0Q2FhWWkzTmE3aFYtWWRIYkg3QUhkYnlJa1JvTHhhVG9tb3ktRHRmb0dSSGRzTmpzNDFqZUwxTG5XczJENnVJMm43QTBFQ1hIaHJjZTlMbkt6eXNMWktRM3Ffa2hxR0UzRTZJT1djajRMT1NvNGJ4SXktZzNVT0NpeElSelJ2bFEifQ\",\n",
      "        \"participant_slug\": \"provider\",\n",
      "        \"participant_type\": \"Provider\",\n",
      "        \"base_url\": \"http://host.docker.internal:1200\",\n",
      "        \"token\": \"fZzLX4aXUvdX8gTVjw0FzL864g7um9xEfOzdJoE-fIA\",\n",
      "        \"saved_at\": \"2025-10-23T13:09:11.186875\",\n",
      "        \"last_interaction\": \"2025-10-23T13:09:11.186878\",\n",
      "        \"is_me\": false\n",
      "    },\n",
      "    {\n",
      "        \"participant_id\": \"did:jwk:eyJrdHkiOiJSU0EiLCJlIjoiQVFBQiIsIm4iOiJ4T0F3WlpkQ3AwQ0dCQV9tMVVHR1VXcEM5THJlcmJjbDMxblJoZThzNzd6R204aXA3YUgtUW5NNUNLbEo1YXlvUDhKTV9rLWhVQ0V2Q09qNWw5VmNhN0RfNTdRMjRJUEtHN0dQSGdnYzZ5bGxwZFlnSkVlY2xUcXJGcjdGUFBxcThDQzY1WVpfS1hGY3ByOHJGRVFEUGtkc3gzbU1qTkYzQUpNNzBpaEItdGtOOWxxcHZLb0h6MzJRaHRybVhFY2t1X1NtVFlFTU9GVU0xd0I1TE4xNmN4ZzIxZXYwMnZGdlVCYmdWZENTNHZocjNHNlNMM2dPZXVzd3BZaTZtTTZ6clloY3lkaDJaRjZCUEZVMS1NNk9tcENGRnd6SFVWNTdqMHJMLUR0OU1Ja1FUWmxXam5kcVVOZG1Ecnlyd0E1OU8zS1lWYWY5cmUwdW9QS3ZGUmRmY3cifQ\",\n",
      "        \"participant_slug\": \"Myself\",\n",
      "        \"participant_type\": \"Consumer\",\n",
      "        \"base_url\": \"http://host.docker.internal:1100\",\n",
      "        \"token\": null,\n",
      "        \"saved_at\": \"2025-10-23T12:56:57.664247\",\n",
      "        \"last_interaction\": \"2025-10-23T13:11:42.776486\",\n",
      "        \"is_me\": true\n",
      "    }\n",
      "]\n"
     ]
    }
   ],
   "source": [
    "url = data_space_consumer + \"/api/v1/mates\"\n",
    "response = requests.request(\"GET\", url, headers=json_header)\n",
    "response_as_json = response.json()\n",
    "\n",
    "for participant in response_as_json:\n",
    "    if participant.get(\"participant_type\") == \"Provider\":\n",
    "        data_space_provider_participant_id = participant[\"participant_id\"]\n",
    "        data_space_provider_participant_token = participant[\"token\"]\n",
    "        break\n",
    "\n",
    "print(json.dumps(response_as_json, indent=4))"
   ]
  },
  {
   "cell_type": "markdown",
   "id": "89cf12a469c65479",
   "metadata": {},
   "source": [
    "## Create Catalog instances and metadata"
   ]
  },
  {
   "cell_type": "code",
   "execution_count": 44,
   "id": "11ed0dd3e885a07e",
   "metadata": {
    "ExecuteTime": {
     "end_time": "2025-10-23T13:11:51.742296Z",
     "start_time": "2025-10-23T13:11:51.630809Z"
    }
   },
   "outputs": [
    {
     "data": {
      "text/plain": [
       "'urn:uuid:492bfc4f-fda6-4ca1-9a17-5fada2279567'"
      ]
     },
     "execution_count": 44,
     "metadata": {},
     "output_type": "execute_result"
    }
   ],
   "source": [
    "url = data_space_provider + \"/api/v1/catalogs\"\n",
    "payload = {\n",
    "    \"foaf:homepage\": \"My dataspace catalog\",\n",
    "    \"dct:title\": \"My dataspace catalog\",\n",
    "\n",
    "}\n",
    "response = requests.request(\"POST\", url, headers=json_header, data=json.dumps(payload))\n",
    "response_as_json = response.json()\n",
    "catalog_id = response_as_json[\"@id\"]\n",
    "catalog_id"
   ]
  },
  {
   "cell_type": "code",
   "execution_count": 45,
   "id": "7baa8c98c1636e0e",
   "metadata": {
    "ExecuteTime": {
     "end_time": "2025-10-23T13:11:52.224255Z",
     "start_time": "2025-10-23T13:11:52.152081Z"
    }
   },
   "outputs": [
    {
     "data": {
      "text/plain": [
       "'urn:uuid:7f5e0de1-f2e1-4611-a0b2-5ccb055268ae'"
      ]
     },
     "execution_count": 45,
     "metadata": {},
     "output_type": "execute_result"
    }
   ],
   "source": [
    "url = data_space_provider + \"/api/v1/catalogs/{}/datasets\".format(catalog_id)\n",
    "payload = {\n",
    "    \"dct:title\": \"My dataspace dataset\",\n",
    "}\n",
    "response = requests.request(\"POST\", url, headers=json_header, data=json.dumps(payload))\n",
    "response_as_json = response.json()\n",
    "dataset_id = response_as_json[\"@id\"]\n",
    "dataset_id"
   ]
  },
  {
   "cell_type": "code",
   "execution_count": 46,
   "id": "da71f544b74fee9e",
   "metadata": {
    "ExecuteTime": {
     "end_time": "2025-10-23T13:11:52.531333Z",
     "start_time": "2025-10-23T13:11:52.482238Z"
    }
   },
   "outputs": [
    {
     "data": {
      "text/plain": [
       "'urn:uuid:a1c387a4-039a-4a71-bb50-bf3dc04ea837'"
      ]
     },
     "execution_count": 46,
     "metadata": {},
     "output_type": "execute_result"
    }
   ],
   "source": [
    "url = data_space_provider + \"/api/v1/catalogs/{}/data-services\".format(catalog_id)\n",
    "payload = {\n",
    "    \"dcat:endpointURL\": api_endpoint\n",
    "}\n",
    "response = requests.request(\"POST\", url, headers=json_header, data=json.dumps(payload))\n",
    "response_as_json = response.json()\n",
    "data_service_id = response_as_json[\"@id\"]\n",
    "data_service_id"
   ]
  },
  {
   "cell_type": "code",
   "execution_count": 47,
   "id": "e3d0ae29abb601f1",
   "metadata": {
    "ExecuteTime": {
     "end_time": "2025-10-23T13:11:52.881239Z",
     "start_time": "2025-10-23T13:11:52.843121Z"
    }
   },
   "outputs": [
    {
     "data": {
      "text/plain": [
       "'urn:uuid:99bd2989-664b-4f07-963f-b32d9599fb0d'"
      ]
     },
     "execution_count": 47,
     "metadata": {},
     "output_type": "execute_result"
    }
   ],
   "source": [
    "url = data_space_provider + \"/api/v1/catalogs/{}/datasets/{}/distributions\".format(catalog_id, dataset_id)\n",
    "payload = {\n",
    "    \"dcat:accessService\": data_service_id,\n",
    "    \"dct:formats\": \"http+pull\"\n",
    "}\n",
    "response = requests.request(\"POST\", url, headers=json_header, data=json.dumps(payload))\n",
    "response_as_json = response.json()\n",
    "distribution_id = response_as_json[\"@id\"]\n",
    "distribution_id"
   ]
  },
  {
   "cell_type": "markdown",
   "id": "bcb61aba09d7f894",
   "metadata": {},
   "source": [
    "## Create policies"
   ]
  },
  {
   "cell_type": "code",
   "execution_count": 48,
   "id": "3e20aede0a523dd4",
   "metadata": {
    "ExecuteTime": {
     "end_time": "2025-10-23T13:11:53.748353Z",
     "start_time": "2025-10-23T13:11:53.680975Z"
    }
   },
   "outputs": [
    {
     "name": "stdout",
     "output_type": "stream",
     "text": [
      "{\n",
      "    \"@id\": \"urn:uuid:2d0284cb-2f92-41da-b961-eedf2195b7ba\",\n",
      "    \"permission\": [\n",
      "        {\n",
      "            \"action\": \"use\",\n",
      "            \"constraint\": [\n",
      "                {\n",
      "                    \"rightOperand\": \"user\",\n",
      "                    \"leftOperand\": \"did:web:hola.es\",\n",
      "                    \"operator\": \"eq\"\n",
      "                }\n",
      "            ]\n",
      "        }\n",
      "    ],\n",
      "    \"obligation\": [],\n",
      "    \"@type\": \"Offer\",\n",
      "    \"prohibition\": [],\n",
      "    \"target\": \"urn:uuid:7f5e0de1-f2e1-4611-a0b2-5ccb055268ae\"\n",
      "}\n"
     ]
    }
   ],
   "source": [
    "url = data_space_provider + \"/api/v1/datasets/{}/policies\".format(dataset_id)\n",
    "payload = {\n",
    "    \"permission\": [\n",
    "        {\n",
    "            \"action\": \"use\",\n",
    "            \"constraint\": [\n",
    "                {\n",
    "                    \"rightOperand\": \"user\",\n",
    "                    \"leftOperand\": \"did:web:hola.es\",\n",
    "                    \"operator\": \"eq\"\n",
    "                }\n",
    "            ]\n",
    "        }\n",
    "\n",
    "    ],\n",
    "    \"obligation\": [],\n",
    "    \"prohibition\": []\n",
    "}\n",
    "response = requests.request(\"POST\", url, headers=json_header, data=json.dumps(payload))\n",
    "response_as_json = response.json()\n",
    "policy_id = response_as_json[\"@id\"]\n",
    "target_id = response_as_json[\"target\"]\n",
    "print(json.dumps(response_as_json, indent=4))"
   ]
  },
  {
   "cell_type": "markdown",
   "id": "438aaeed57dce757",
   "metadata": {},
   "source": [
    "## Contract Negotiation"
   ]
  },
  {
   "cell_type": "code",
   "execution_count": 49,
   "id": "8c2d2e2304b50ace",
   "metadata": {
    "ExecuteTime": {
     "end_time": "2025-10-23T13:11:55.239327Z",
     "start_time": "2025-10-23T13:11:54.682384Z"
    }
   },
   "outputs": [
    {
     "name": "stdout",
     "output_type": "stream",
     "text": [
      "{\n",
      "  \"consumerPid\": \"urn:uuid:a128ff22-445c-4433-8564-e551ae11c91d\",\n",
      "  \"providerPid\": \"urn:uuid:05c1accc-b47b-4ed1-a428-66738179e0b0\",\n",
      "  \"offer\": {\n",
      "    \"@id\": \"urn:uuid:2d0284cb-2f92-41da-b961-eedf2195b7ba\",\n",
      "    \"permission\": [\n",
      "      {\n",
      "        \"action\": \"use\"\n",
      "      }\n",
      "    ],\n",
      "    \"@type\": \"Offer\",\n",
      "    \"target\": \"urn:uuid:7f5e0de1-f2e1-4611-a0b2-5ccb055268ae\"\n",
      "  },\n",
      "  \"message\": {\n",
      "    \"@context\": [\n",
      "      \"https://w3id.org/dspace/2025/1/context.jsonld\"\n",
      "    ],\n",
      "    \"@type\": \"ContractNegotiation\",\n",
      "    \"providerPid\": \"urn:uuid:05c1accc-b47b-4ed1-a428-66738179e0b0\",\n",
      "    \"consumerPid\": \"urn:uuid:a128ff22-445c-4433-8564-e551ae11c91d\",\n",
      "    \"state\": \"REQUESTED\"\n",
      "  }\n",
      "}\n"
     ]
    }
   ],
   "source": [
    "url = data_space_consumer + \"/api/v1/negotiations/rpc/setup-request\"\n",
    "payload = {\n",
    "    \"providerParticipantId\": data_space_provider_participant_id,\n",
    "    \"offer\": {\n",
    "        \"@id\": policy_id,    # policy id\n",
    "        \"target\": target_id, # data id\n",
    "        \"@type\": \"Offer\",\n",
    "        \"permission\": [\n",
    "            {\n",
    "                \"action\": \"use\"\n",
    "\n",
    "            }\n",
    "        ]\n",
    "    }\n",
    "}\n",
    "response = requests.request(\"POST\", url, headers=json_header, data=json.dumps(payload))\n",
    "response_as_json = response.json()\n",
    "cn_consumer_id = response_as_json[\"consumerPid\"]\n",
    "cn_provider_id = response_as_json[\"providerPid\"]\n",
    "print(json.dumps(response_as_json, indent=2))"
   ]
  },
  {
   "cell_type": "code",
   "execution_count": 50,
   "id": "b6ca342e690f05de",
   "metadata": {
    "ExecuteTime": {
     "end_time": "2025-10-23T13:11:57.602497Z",
     "start_time": "2025-10-23T13:11:57.388347Z"
    }
   },
   "outputs": [
    {
     "name": "stdout",
     "output_type": "stream",
     "text": [
      "{\n",
      "  \"consumerParticipantId\": \"did:jwk:eyJrdHkiOiJSU0EiLCJlIjoiQVFBQiIsIm4iOiJ4T0F3WlpkQ3AwQ0dCQV9tMVVHR1VXcEM5THJlcmJjbDMxblJoZThzNzd6R204aXA3YUgtUW5NNUNLbEo1YXlvUDhKTV9rLWhVQ0V2Q09qNWw5VmNhN0RfNTdRMjRJUEtHN0dQSGdnYzZ5bGxwZFlnSkVlY2xUcXJGcjdGUFBxcThDQzY1WVpfS1hGY3ByOHJGRVFEUGtkc3gzbU1qTkYzQUpNNzBpaEItdGtOOWxxcHZLb0h6MzJRaHRybVhFY2t1X1NtVFlFTU9GVU0xd0I1TE4xNmN4ZzIxZXYwMnZGdlVCYmdWZENTNHZocjNHNlNMM2dPZXVzd3BZaTZtTTZ6clloY3lkaDJaRjZCUEZVMS1NNk9tcENGRnd6SFVWNTdqMHJMLUR0OU1Ja1FUWmxXam5kcVVOZG1Ecnlyd0E1OU8zS1lWYWY5cmUwdW9QS3ZGUmRmY3cifQ\",\n",
      "  \"consumerPid\": \"urn:uuid:a128ff22-445c-4433-8564-e551ae11c91d\",\n",
      "  \"providerPid\": \"urn:uuid:05c1accc-b47b-4ed1-a428-66738179e0b0\",\n",
      "  \"offer\": {\n",
      "    \"@id\": \"urn:uuid:2d0284cb-2f92-41da-b961-eedf2195b7ba\",\n",
      "    \"permission\": [\n",
      "      {\n",
      "        \"action\": \"supermegause\"\n",
      "      }\n",
      "    ],\n",
      "    \"@type\": \"Offer\",\n",
      "    \"target\": \"urn:uuid:7f5e0de1-f2e1-4611-a0b2-5ccb055268ae\"\n",
      "  },\n",
      "  \"message\": {\n",
      "    \"@context\": [\n",
      "      \"https://w3id.org/dspace/2025/1/context.jsonld\"\n",
      "    ],\n",
      "    \"@type\": \"ContractNegotiation\",\n",
      "    \"providerPid\": \"urn:uuid:05c1accc-b47b-4ed1-a428-66738179e0b0\",\n",
      "    \"consumerPid\": \"urn:uuid:a128ff22-445c-4433-8564-e551ae11c91d\",\n",
      "    \"state\": \"OFFERED\"\n",
      "  }\n",
      "}\n"
     ]
    }
   ],
   "source": [
    "url = data_space_provider + \"/api/v1/negotiations/rpc/setup-offer\"\n",
    "payload = {\n",
    "    \"consumerParticipantId\": data_space_consumer_participant_id,\n",
    "    \"consumerPid\": cn_consumer_id, # remove to test offer from provider\n",
    "    \"providerPid\": cn_provider_id, # remove to test offer from provider\n",
    "    \"offer\": {\n",
    "        \"@id\": policy_id,\n",
    "        \"target\": target_id,\n",
    "        \"@type\": \"Offer\",\n",
    "        \"permission\": [\n",
    "            {\n",
    "                \"action\": \"supermegause\"\n",
    "            }\n",
    "        ]\n",
    "    }\n",
    "}\n",
    "response = requests.request(\"POST\", url, headers=json_header, data=json.dumps(payload))\n",
    "response_as_json = response.json()\n",
    "print(json.dumps(response_as_json, indent=2))"
   ]
  },
  {
   "cell_type": "code",
   "execution_count": 51,
   "id": "7ac89fa87c4165cf",
   "metadata": {
    "ExecuteTime": {
     "end_time": "2025-10-23T13:11:57.775767Z",
     "start_time": "2025-10-23T13:11:57.697607Z"
    }
   },
   "outputs": [
    {
     "name": "stdout",
     "output_type": "stream",
     "text": [
      "{\n",
      "  \"consumerPid\": \"urn:uuid:a128ff22-445c-4433-8564-e551ae11c91d\",\n",
      "  \"providerPid\": \"urn:uuid:05c1accc-b47b-4ed1-a428-66738179e0b0\",\n",
      "  \"offer\": {\n",
      "    \"@id\": \"urn:uuid:2d0284cb-2f92-41da-b961-eedf2195b7ba\",\n",
      "    \"permission\": [\n",
      "      {\n",
      "        \"action\": \"use\"\n",
      "      }\n",
      "    ],\n",
      "    \"@type\": \"Offer\",\n",
      "    \"target\": \"urn:uuid:7f5e0de1-f2e1-4611-a0b2-5ccb055268ae\"\n",
      "  },\n",
      "  \"message\": {\n",
      "    \"@context\": [\n",
      "      \"https://w3id.org/dspace/2025/1/context.jsonld\"\n",
      "    ],\n",
      "    \"@type\": \"ContractNegotiation\",\n",
      "    \"providerPid\": \"urn:uuid:05c1accc-b47b-4ed1-a428-66738179e0b0\",\n",
      "    \"consumerPid\": \"urn:uuid:a128ff22-445c-4433-8564-e551ae11c91d\",\n",
      "    \"state\": \"REQUESTED\"\n",
      "  }\n",
      "}\n"
     ]
    }
   ],
   "source": [
    "url = data_space_consumer + \"/api/v1/negotiations/rpc/setup-request\"\n",
    "payload = {\n",
    "    \"providerParticipantId\": data_space_provider_participant_id,\n",
    "    \"consumerPid\": cn_consumer_id,\n",
    "    \"providerPid\": cn_provider_id,\n",
    "    \"offer\": {\n",
    "        \"@id\": policy_id,    # policy id\n",
    "        \"target\": target_id, # data id\n",
    "        \"@type\": \"Offer\",\n",
    "        \"permission\": [\n",
    "            {\n",
    "                \"action\": \"use\"\n",
    "\n",
    "            }\n",
    "        ]\n",
    "    }\n",
    "}\n",
    "response = requests.request(\"POST\", url, headers=json_header, data=json.dumps(payload))\n",
    "response_as_json = response.json()\n",
    "cn_consumer_id = response_as_json[\"consumerPid\"]\n",
    "cn_provider_id = response_as_json[\"providerPid\"]\n",
    "print(json.dumps(response_as_json, indent=2))"
   ]
  },
  {
   "cell_type": "code",
   "execution_count": 52,
   "id": "2cd0744d51abe4b5",
   "metadata": {
    "ExecuteTime": {
     "end_time": "2025-10-23T13:11:57.936789Z",
     "start_time": "2025-10-23T13:11:57.865819Z"
    }
   },
   "outputs": [
    {
     "name": "stdout",
     "output_type": "stream",
     "text": [
      "{\n",
      "  \"consumerParticipantId\": \"did:jwk:eyJrdHkiOiJSU0EiLCJlIjoiQVFBQiIsIm4iOiJ4T0F3WlpkQ3AwQ0dCQV9tMVVHR1VXcEM5THJlcmJjbDMxblJoZThzNzd6R204aXA3YUgtUW5NNUNLbEo1YXlvUDhKTV9rLWhVQ0V2Q09qNWw5VmNhN0RfNTdRMjRJUEtHN0dQSGdnYzZ5bGxwZFlnSkVlY2xUcXJGcjdGUFBxcThDQzY1WVpfS1hGY3ByOHJGRVFEUGtkc3gzbU1qTkYzQUpNNzBpaEItdGtOOWxxcHZLb0h6MzJRaHRybVhFY2t1X1NtVFlFTU9GVU0xd0I1TE4xNmN4ZzIxZXYwMnZGdlVCYmdWZENTNHZocjNHNlNMM2dPZXVzd3BZaTZtTTZ6clloY3lkaDJaRjZCUEZVMS1NNk9tcENGRnd6SFVWNTdqMHJMLUR0OU1Ja1FUWmxXam5kcVVOZG1Ecnlyd0E1OU8zS1lWYWY5cmUwdW9QS3ZGUmRmY3cifQ\",\n",
      "  \"consumerPid\": \"urn:uuid:a128ff22-445c-4433-8564-e551ae11c91d\",\n",
      "  \"providerPid\": \"urn:uuid:05c1accc-b47b-4ed1-a428-66738179e0b0\",\n",
      "  \"offer\": {\n",
      "    \"@id\": \"urn:uuid:2d0284cb-2f92-41da-b961-eedf2195b7ba\",\n",
      "    \"permission\": [\n",
      "      {\n",
      "        \"action\": \"supermegause\"\n",
      "      }\n",
      "    ],\n",
      "    \"@type\": \"Offer\",\n",
      "    \"target\": \"urn:uuid:7f5e0de1-f2e1-4611-a0b2-5ccb055268ae\"\n",
      "  },\n",
      "  \"message\": {\n",
      "    \"@context\": [\n",
      "      \"https://w3id.org/dspace/2025/1/context.jsonld\"\n",
      "    ],\n",
      "    \"@type\": \"ContractNegotiation\",\n",
      "    \"providerPid\": \"urn:uuid:05c1accc-b47b-4ed1-a428-66738179e0b0\",\n",
      "    \"consumerPid\": \"urn:uuid:a128ff22-445c-4433-8564-e551ae11c91d\",\n",
      "    \"state\": \"OFFERED\"\n",
      "  }\n",
      "}\n"
     ]
    }
   ],
   "source": [
    "url = data_space_provider + \"/api/v1/negotiations/rpc/setup-offer\"\n",
    "payload = {\n",
    "    \"consumerParticipantId\": data_space_consumer_participant_id,\n",
    "    \"consumerPid\": cn_consumer_id,\n",
    "    \"providerPid\": cn_provider_id,\n",
    "    \"offer\": {\n",
    "        \"@id\": policy_id,\n",
    "        \"target\": target_id,\n",
    "        \"@type\": \"Offer\",\n",
    "        \"permission\": [\n",
    "            {\n",
    "                \"action\": \"supermegause\"\n",
    "            }\n",
    "        ]\n",
    "    }\n",
    "}\n",
    "response = requests.request(\"POST\", url, headers=json_header, data=json.dumps(payload))\n",
    "response_as_json = response.json()\n",
    "print(json.dumps(response_as_json, indent=2))"
   ]
  },
  {
   "cell_type": "code",
   "execution_count": 53,
   "id": "4feaa2d5afa582d6",
   "metadata": {
    "ExecuteTime": {
     "end_time": "2025-10-23T13:11:58.130524Z",
     "start_time": "2025-10-23T13:11:58.072967Z"
    }
   },
   "outputs": [
    {
     "name": "stdout",
     "output_type": "stream",
     "text": [
      "{\n",
      "  \"consumerPid\": \"urn:uuid:a128ff22-445c-4433-8564-e551ae11c91d\",\n",
      "  \"providerPid\": \"urn:uuid:05c1accc-b47b-4ed1-a428-66738179e0b0\",\n",
      "  \"message\": {\n",
      "    \"@context\": [\n",
      "      \"https://w3id.org/dspace/2025/1/context.jsonld\"\n",
      "    ],\n",
      "    \"@type\": \"ContractNegotiation\",\n",
      "    \"providerPid\": \"urn:uuid:05c1accc-b47b-4ed1-a428-66738179e0b0\",\n",
      "    \"consumerPid\": \"urn:uuid:a128ff22-445c-4433-8564-e551ae11c91d\",\n",
      "    \"state\": \"ACCEPTED\"\n",
      "  }\n",
      "}\n"
     ]
    }
   ],
   "source": [
    "url = data_space_consumer + \"/api/v1/negotiations/rpc/setup-acceptance\"\n",
    "payload = {\n",
    "    \"providerParticipantId\": data_space_provider_participant_id,\n",
    "    \"consumerPid\": cn_consumer_id,\n",
    "    \"providerPid\": cn_provider_id\n",
    "}\n",
    "response = requests.request(\"POST\", url, headers=json_header, data=json.dumps(payload))\n",
    "response_as_json = response.json()\n",
    "print(json.dumps(response_as_json, indent=2))"
   ]
  },
  {
   "cell_type": "code",
   "execution_count": 54,
   "id": "84609238c0d3e043",
   "metadata": {
    "ExecuteTime": {
     "end_time": "2025-10-23T13:11:58.390791Z",
     "start_time": "2025-10-23T13:11:58.264281Z"
    }
   },
   "outputs": [
    {
     "name": "stdout",
     "output_type": "stream",
     "text": [
      "{\n",
      "  \"consumerPid\": \"urn:uuid:a128ff22-445c-4433-8564-e551ae11c91d\",\n",
      "  \"providerPid\": \"urn:uuid:05c1accc-b47b-4ed1-a428-66738179e0b0\",\n",
      "  \"agreement\": {\n",
      "    \"@id\": \"urn:uuid:5163f6e2-ec73-4542-b1eb-1fcc82967130\",\n",
      "    \"permission\": [\n",
      "      {\n",
      "        \"action\": \"supermegause\"\n",
      "      }\n",
      "    ],\n",
      "    \"@type\": \"Agreement\",\n",
      "    \"target\": \"urn:uuid:7f5e0de1-f2e1-4611-a0b2-5ccb055268ae\",\n",
      "    \"assigner\": \"did:jwk:eyJrdHkiOiJSU0EiLCJlIjoiQVFBQiIsIm4iOiIwLW5uempxdDNQVXZtMUVPaEVxNUNxQ05WcEVUM3I4S0Y3VWRKSDJlRFV1dDNhSFlFWGFxbG51SXZ4TUVmN0J1dkhMVnlUaW95U1BoMV9TaDF0ZnBwdF9aNXpXU1ZZUGp0ekZ0QlJsQ0pQYzNfc2YtelRIQURMMmNyYW84WmxXa1FFR2ZtX1g3Y2QtMkd5bmVuR0k0a01rLU9vRERUWEJNRmVoOVdtR1dyMGZBeHJ4Qkp3Unh4QTExODNIOWo1QkY3dlpVZ0Y3akYzV28xcVlva0Z4emJ0Q2FhWWkzTmE3aFYtWWRIYkg3QUhkYnlJa1JvTHhhVG9tb3ktRHRmb0dSSGRzTmpzNDFqZUwxTG5XczJENnVJMm43QTBFQ1hIaHJjZTlMbkt6eXNMWktRM3Ffa2hxR0UzRTZJT1djajRMT1NvNGJ4SXktZzNVT0NpeElSelJ2bFEifQ\",\n",
      "    \"assignee\": \"did:jwk:eyJrdHkiOiJSU0EiLCJlIjoiQVFBQiIsIm4iOiJ4T0F3WlpkQ3AwQ0dCQV9tMVVHR1VXcEM5THJlcmJjbDMxblJoZThzNzd6R204aXA3YUgtUW5NNUNLbEo1YXlvUDhKTV9rLWhVQ0V2Q09qNWw5VmNhN0RfNTdRMjRJUEtHN0dQSGdnYzZ5bGxwZFlnSkVlY2xUcXJGcjdGUFBxcThDQzY1WVpfS1hGY3ByOHJGRVFEUGtkc3gzbU1qTkYzQUpNNzBpaEItdGtOOWxxcHZLb0h6MzJRaHRybVhFY2t1X1NtVFlFTU9GVU0xd0I1TE4xNmN4ZzIxZXYwMnZGdlVCYmdWZENTNHZocjNHNlNMM2dPZXVzd3BZaTZtTTZ6clloY3lkaDJaRjZCUEZVMS1NNk9tcENGRnd6SFVWNTdqMHJMLUR0OU1Ja1FUWmxXam5kcVVOZG1Ecnlyd0E1OU8zS1lWYWY5cmUwdW9QS3ZGUmRmY3cifQ\",\n",
      "    \"timestamp\": \"2025-10-23T13:25:26.867920378+00:00\"\n",
      "  },\n",
      "  \"message\": {\n",
      "    \"@context\": [\n",
      "      \"https://w3id.org/dspace/2025/1/context.jsonld\"\n",
      "    ],\n",
      "    \"@type\": \"ContractNegotiation\",\n",
      "    \"providerPid\": \"urn:uuid:05c1accc-b47b-4ed1-a428-66738179e0b0\",\n",
      "    \"consumerPid\": \"urn:uuid:a128ff22-445c-4433-8564-e551ae11c91d\",\n",
      "    \"state\": \"AGREED\"\n",
      "  }\n",
      "}\n"
     ]
    }
   ],
   "source": [
    "url = data_space_provider + \"/api/v1/negotiations/rpc/setup-agreement\"\n",
    "payload = {\n",
    "    \"consumerParticipantId\": data_space_consumer_participant_id,\n",
    "    \"consumerPid\": cn_consumer_id,\n",
    "    \"providerPid\": cn_provider_id\n",
    "}\n",
    "response = requests.request(\"POST\", url, headers=json_header, data=json.dumps(payload))\n",
    "response_as_json = response.json()\n",
    "agreement_id=response_as_json[\"agreement\"][\"@id\"]\n",
    "print(json.dumps(response_as_json, indent=2))"
   ]
  },
  {
   "cell_type": "code",
   "execution_count": 55,
   "id": "8840cdbc4f7c5a99",
   "metadata": {
    "ExecuteTime": {
     "end_time": "2025-10-23T13:11:58.571309Z",
     "start_time": "2025-10-23T13:11:58.486762Z"
    }
   },
   "outputs": [
    {
     "name": "stdout",
     "output_type": "stream",
     "text": [
      "{\n",
      "  \"consumerPid\": \"urn:uuid:a128ff22-445c-4433-8564-e551ae11c91d\",\n",
      "  \"providerPid\": \"urn:uuid:05c1accc-b47b-4ed1-a428-66738179e0b0\",\n",
      "  \"message\": {\n",
      "    \"@context\": [\n",
      "      \"https://w3id.org/dspace/2025/1/context.jsonld\"\n",
      "    ],\n",
      "    \"@type\": \"ContractNegotiation\",\n",
      "    \"providerPid\": \"urn:uuid:05c1accc-b47b-4ed1-a428-66738179e0b0\",\n",
      "    \"consumerPid\": \"urn:uuid:a128ff22-445c-4433-8564-e551ae11c91d\",\n",
      "    \"state\": \"VERIFIED\"\n",
      "  }\n",
      "}\n"
     ]
    }
   ],
   "source": [
    "url = data_space_consumer + \"/api/v1/negotiations/rpc/setup-verification\"\n",
    "payload = {\n",
    "    \"providerParticipantId\": data_space_provider_participant_id,\n",
    "    \"consumerPid\": cn_consumer_id,\n",
    "    \"providerPid\": cn_provider_id,\n",
    "}\n",
    "response = requests.request(\"POST\", url, headers=json_header, data=json.dumps(payload))\n",
    "response_as_json = response.json()\n",
    "print(json.dumps(response_as_json, indent=2))"
   ]
  },
  {
   "cell_type": "code",
   "execution_count": 56,
   "id": "fddd19bf8f2b05d9",
   "metadata": {
    "ExecuteTime": {
     "end_time": "2025-10-23T13:11:58.745633Z",
     "start_time": "2025-10-23T13:11:58.641858Z"
    }
   },
   "outputs": [
    {
     "name": "stdout",
     "output_type": "stream",
     "text": [
      "{\n",
      "  \"consumerPid\": \"urn:uuid:a128ff22-445c-4433-8564-e551ae11c91d\",\n",
      "  \"providerPid\": \"urn:uuid:05c1accc-b47b-4ed1-a428-66738179e0b0\",\n",
      "  \"message\": {\n",
      "    \"@context\": [\n",
      "      \"https://w3id.org/dspace/2025/1/context.jsonld\"\n",
      "    ],\n",
      "    \"@type\": \"ContractNegotiation\",\n",
      "    \"providerPid\": \"urn:uuid:05c1accc-b47b-4ed1-a428-66738179e0b0\",\n",
      "    \"consumerPid\": \"urn:uuid:a128ff22-445c-4433-8564-e551ae11c91d\",\n",
      "    \"state\": \"FINALIZED\"\n",
      "  }\n",
      "}\n"
     ]
    }
   ],
   "source": [
    "url = data_space_provider + \"/api/v1/negotiations/rpc/setup-finalization\"\n",
    "payload = {\n",
    "    \"consumerParticipantId\": data_space_consumer_participant_id,\n",
    "    \"consumerPid\": cn_consumer_id,\n",
    "    \"providerPid\": cn_provider_id,\n",
    "}\n",
    "response = requests.request(\"POST\", url, headers=json_header, data=json.dumps(payload))\n",
    "response_as_json = response.json()\n",
    "print(json.dumps(response_as_json, indent=2))"
   ]
  },
  {
   "cell_type": "markdown",
   "id": "f8a6b52b3af734ba",
   "metadata": {},
   "source": [
    "## Transfer Negotiation\n"
   ]
  },
  {
   "cell_type": "code",
   "execution_count": 57,
   "id": "c359ed2305c94f27",
   "metadata": {
    "ExecuteTime": {
     "end_time": "2025-10-23T13:11:59.220363Z",
     "start_time": "2025-10-23T13:11:58.944249Z"
    }
   },
   "outputs": [
    {
     "name": "stdout",
     "output_type": "stream",
     "text": [
      "{\n",
      "  \"providerPid\": \"urn:uuid:9b5da683-7210-497b-94bf-f8de247209e7\",\n",
      "  \"consumerPid\": \"urn:uuid:39466a70-e81b-447d-8986-dcad56b1fbfd\",\n",
      "  \"agreementId\": \"urn:uuid:5163f6e2-ec73-4542-b1eb-1fcc82967130\",\n",
      "  \"callbackAddress\": \"http://host.docker.internal:1100/urn:uuid:45dfb269-a8f8-4c86-92dd-5d5e7ef22f72\",\n",
      "  \"format\": \"http+pull\",\n",
      "  \"message\": {\n",
      "    \"@context\": [\n",
      "      \"https://w3id.org/dspace/2025/1/context.jsonld\"\n",
      "    ],\n",
      "    \"@type\": \"TransferProcess\",\n",
      "    \"providerPid\": \"urn:uuid:9b5da683-7210-497b-94bf-f8de247209e7\",\n",
      "    \"consumerPid\": \"urn:uuid:39466a70-e81b-447d-8986-dcad56b1fbfd\",\n",
      "    \"state\": \"REQUESTED\"\n",
      "  }\n",
      "}\n"
     ]
    }
   ],
   "source": [
    "url = data_space_consumer + \"/api/v1/transfers/rpc/setup-request\"\n",
    "payload = {\n",
    "    \"providerParticipantId\": data_space_provider_participant_id,\n",
    "    \"agreementId\": agreement_id,\n",
    "    \"format\": \"http+pull\"\n",
    "}\n",
    "response = requests.request(\"POST\", url, headers=json_header, data=json.dumps(payload))\n",
    "response_as_json = response.json()\n",
    "transfer_consumer_id = response_as_json[\"consumerPid\"]\n",
    "transfer_provider_id = response_as_json[\"providerPid\"]\n",
    "callback_address = response_as_json[\"callbackAddress\"]\n",
    "print(json.dumps(response_as_json, indent=2))"
   ]
  },
  {
   "cell_type": "code",
   "execution_count": 58,
   "id": "d905936906de088c",
   "metadata": {
    "ExecuteTime": {
     "end_time": "2025-10-23T13:11:59.589316Z",
     "start_time": "2025-10-23T13:11:59.336361Z"
    }
   },
   "outputs": [
    {
     "name": "stdout",
     "output_type": "stream",
     "text": [
      "{\n",
      "  \"providerPid\": \"urn:uuid:9b5da683-7210-497b-94bf-f8de247209e7\",\n",
      "  \"consumerPid\": \"urn:uuid:39466a70-e81b-447d-8986-dcad56b1fbfd\",\n",
      "  \"dataAddress\": {\n",
      "    \"@type\": \"DataAddress\",\n",
      "    \"endpointType\": \"http\",\n",
      "    \"endpoint\": \"http://host.docker.internal:1200/data/urn:uuid:9b5da683-7210-497b-94bf-f8de247209e7\",\n",
      "    \"endpointProperties\": [\n",
      "      {\n",
      "        \"@type\": \"EndpointProperty\",\n",
      "        \"name\": \"authType\",\n",
      "        \"value\": \"\"\n",
      "      },\n",
      "      {\n",
      "        \"@type\": \"EndpointProperty\",\n",
      "        \"name\": \"authorization\",\n",
      "        \"value\": \"\"\n",
      "      }\n",
      "    ]\n",
      "  },\n",
      "  \"message\": {\n",
      "    \"@context\": [\n",
      "      \"https://w3id.org/dspace/2025/1/context.jsonld\"\n",
      "    ],\n",
      "    \"@type\": \"TransferProcess\",\n",
      "    \"providerPid\": \"urn:uuid:9b5da683-7210-497b-94bf-f8de247209e7\",\n",
      "    \"consumerPid\": \"urn:uuid:39466a70-e81b-447d-8986-dcad56b1fbfd\",\n",
      "    \"state\": \"STARTED\"\n",
      "  }\n",
      "}\n"
     ]
    }
   ],
   "source": [
    "url = data_space_provider + \"/api/v1/transfers/rpc/setup-start\"\n",
    "payload = {\n",
    "    \"consumerParticipantId\": data_space_consumer_participant_id,\n",
    "    \"consumerCallbackAddress\": callback_address,\n",
    "    \"providerPid\": transfer_provider_id,\n",
    "    \"consumerPid\": transfer_consumer_id\n",
    "}\n",
    "response = requests.request(\"POST\", url, headers=json_header, data=json.dumps(payload))\n",
    "response_as_json = response.json()\n",
    "\n",
    "print(json.dumps(response_as_json, indent=2))"
   ]
  },
  {
   "cell_type": "code",
   "execution_count": 59,
   "id": "45bb48df83adbb24",
   "metadata": {
    "ExecuteTime": {
     "end_time": "2025-10-23T13:11:59.808232Z",
     "start_time": "2025-10-23T13:11:59.787673Z"
    }
   },
   "outputs": [
    {
     "name": "stdout",
     "output_type": "stream",
     "text": [
      "{\n",
      "  \"id\": \"urn:uuid:39466a70-e81b-447d-8986-dcad56b1fbfd\",\n",
      "  \"process_direction\": \"PULL\",\n",
      "  \"upstream_hop\": {\n",
      "    \"protocol\": \"\",\n",
      "    \"url\": \"\",\n",
      "    \"auth_type\": \"\",\n",
      "    \"auth_content\": \"\"\n",
      "  },\n",
      "  \"downstream_hop\": {\n",
      "    \"protocol\": \"\",\n",
      "    \"url\": \"\",\n",
      "    \"auth_type\": \"\",\n",
      "    \"auth_content\": \"\"\n",
      "  },\n",
      "  \"process_address\": {\n",
      "    \"protocol\": \"http\",\n",
      "    \"url\": \"http://host.docker.internal:1100/data/urn:uuid:39466a70-e81b-447d-8986-dcad56b1fbfd\",\n",
      "    \"auth_type\": \"\",\n",
      "    \"auth_content\": \"\"\n",
      "  },\n",
      "  \"created_at\": \"2025-10-23T13:25:28.834038\",\n",
      "  \"updated_at\": \"2025-10-23T13:25:28.844682\",\n",
      "  \"state\": \"STARTED\"\n",
      "}\n"
     ]
    }
   ],
   "source": [
    "url = data_space_consumer + \"/api/v1/dataplane/\" + transfer_consumer_id\n",
    "response = requests.request(\"GET\", url, headers=json_header)\n",
    "response_as_json = response.json()\n",
    "consumer_data_address = response_as_json[\"process_address\"][\"url\"]\n",
    "consumer_data_address = replace_host_docker_internal(consumer_data_address)\n",
    "print(json.dumps(response_as_json, indent=2))"
   ]
  },
  {
   "cell_type": "code",
   "execution_count": 60,
   "id": "6e9e83d8150b9676",
   "metadata": {
    "ExecuteTime": {
     "end_time": "2025-10-23T13:12:00.517935Z",
     "start_time": "2025-10-23T13:11:59.891460Z"
    }
   },
   "outputs": [
    {
     "name": "stdout",
     "output_type": "stream",
     "text": [
      "     postId   id                                               name  \\\n",
      "0         1    1                       id labore ex et quam laborum   \n",
      "1         1    2          quo vero reiciendis velit similique earum   \n",
      "2         1    3                      odio adipisci rerum aut animi   \n",
      "3         1    4                                     alias odio sit   \n",
      "4         1    5              vero eaque aliquid doloribus et culpa   \n",
      "..      ...  ...                                                ...   \n",
      "495     100  496  et occaecati asperiores quas voluptas ipsam no...   \n",
      "496     100  497             doloribus dolores ut dolores occaecati   \n",
      "497     100  498                           dolores minus aut libero   \n",
      "498     100  499  excepturi sunt cum a et rerum quo voluptatibus...   \n",
      "499     100  500                                 ex eaque eum natus   \n",
      "\n",
      "                            email  \\\n",
      "0              Eliseo@gardner.biz   \n",
      "1          Jayne_Kuhic@sydney.com   \n",
      "2             Nikita@garfield.biz   \n",
      "3                   Lew@alysha.tv   \n",
      "4               Hayden@althea.biz   \n",
      "..                            ...   \n",
      "495               Zola@lizzie.com   \n",
      "496             Dolly@mandy.co.uk   \n",
      "497             Davion@eldora.net   \n",
      "498  Wilburn_Labadie@araceli.name   \n",
      "499                Emma@joanny.ca   \n",
      "\n",
      "                                                  body  \n",
      "0    laudantium enim quasi est quidem magnam volupt...  \n",
      "1    est natus enim nihil est dolore omnis voluptat...  \n",
      "2    quia molestiae reprehenderit quasi aspernatur\\...  \n",
      "3    non et atque\\noccaecati deserunt quas accusant...  \n",
      "4    harum non quasi et ratione\\ntempore iure ex vo...  \n",
      "..                                                 ...  \n",
      "495  neque unde voluptatem iure\\nodio excepturi ips...  \n",
      "496  non dolor consequatur\\nlaboriosam ut deserunt ...  \n",
      "497  aliquam pariatur suscipit fugiat eos sunt\\nopt...  \n",
      "498  et necessitatibus tempora ipsum quaerat invent...  \n",
      "499  perspiciatis quis doloremque\\nveniam nisi eos ...  \n",
      "\n",
      "[500 rows x 5 columns]\n"
     ]
    }
   ],
   "source": [
    "try :\n",
    "    df = pd.read_json(consumer_data_address)\n",
    "    print(df)\n",
    "except HTTPError as e:\n",
    "    print(e)\n"
   ]
  },
  {
   "cell_type": "code",
   "execution_count": 62,
   "id": "ed4a0bc53ceec45f",
   "metadata": {
    "ExecuteTime": {
     "end_time": "2025-10-23T13:12:00.640073Z",
     "start_time": "2025-10-22T15:09:01.643685Z"
    }
   },
   "outputs": [
    {
     "name": "stdout",
     "output_type": "stream",
     "text": [
      "{\n",
      "  \"providerPid\": \"urn:uuid:9b5da683-7210-497b-94bf-f8de247209e7\",\n",
      "  \"consumerPid\": \"urn:uuid:39466a70-e81b-447d-8986-dcad56b1fbfd\",\n",
      "  \"message\": {\n",
      "    \"@context\": [\n",
      "      \"https://w3id.org/dspace/2025/1/context.jsonld\"\n",
      "    ],\n",
      "    \"@type\": \"TransferProcess\",\n",
      "    \"providerPid\": \"urn:uuid:9b5da683-7210-497b-94bf-f8de247209e7\",\n",
      "    \"consumerPid\": \"urn:uuid:39466a70-e81b-447d-8986-dcad56b1fbfd\",\n",
      "    \"state\": \"SUSPENDED\"\n",
      "  }\n",
      "}\n"
     ]
    }
   ],
   "source": [
    "url = data_space_consumer + \"/api/v1/transfers/rpc/setup-suspension\"\n",
    "payload = {\n",
    "    \"providerParticipantId\": data_space_provider_participant_id,\n",
    "    \"providerPid\": transfer_provider_id,\n",
    "    \"consumerPid\": transfer_consumer_id,\n",
    "}\n",
    "response = requests.request(\"POST\", url, headers=json_header, data=json.dumps(payload))\n",
    "response_as_json = response.json()\n",
    "print(json.dumps(response_as_json, indent=2))"
   ]
  },
  {
   "cell_type": "code",
   "execution_count": 66,
   "id": "fec52d4ca1de9ff7",
   "metadata": {
    "ExecuteTime": {
     "end_time": "2025-10-23T13:12:00.643727Z",
     "start_time": "2025-10-22T15:09:01.991376Z"
    }
   },
   "outputs": [
    {
     "name": "stdout",
     "output_type": "stream",
     "text": [
      "     postId   id                                               name  \\\n",
      "0         1    1                       id labore ex et quam laborum   \n",
      "1         1    2          quo vero reiciendis velit similique earum   \n",
      "2         1    3                      odio adipisci rerum aut animi   \n",
      "3         1    4                                     alias odio sit   \n",
      "4         1    5              vero eaque aliquid doloribus et culpa   \n",
      "..      ...  ...                                                ...   \n",
      "495     100  496  et occaecati asperiores quas voluptas ipsam no...   \n",
      "496     100  497             doloribus dolores ut dolores occaecati   \n",
      "497     100  498                           dolores minus aut libero   \n",
      "498     100  499  excepturi sunt cum a et rerum quo voluptatibus...   \n",
      "499     100  500                                 ex eaque eum natus   \n",
      "\n",
      "                            email  \\\n",
      "0              Eliseo@gardner.biz   \n",
      "1          Jayne_Kuhic@sydney.com   \n",
      "2             Nikita@garfield.biz   \n",
      "3                   Lew@alysha.tv   \n",
      "4               Hayden@althea.biz   \n",
      "..                            ...   \n",
      "495               Zola@lizzie.com   \n",
      "496             Dolly@mandy.co.uk   \n",
      "497             Davion@eldora.net   \n",
      "498  Wilburn_Labadie@araceli.name   \n",
      "499                Emma@joanny.ca   \n",
      "\n",
      "                                                  body  \n",
      "0    laudantium enim quasi est quidem magnam volupt...  \n",
      "1    est natus enim nihil est dolore omnis voluptat...  \n",
      "2    quia molestiae reprehenderit quasi aspernatur\\...  \n",
      "3    non et atque\\noccaecati deserunt quas accusant...  \n",
      "4    harum non quasi et ratione\\ntempore iure ex vo...  \n",
      "..                                                 ...  \n",
      "495  neque unde voluptatem iure\\nodio excepturi ips...  \n",
      "496  non dolor consequatur\\nlaboriosam ut deserunt ...  \n",
      "497  aliquam pariatur suscipit fugiat eos sunt\\nopt...  \n",
      "498  et necessitatibus tempora ipsum quaerat invent...  \n",
      "499  perspiciatis quis doloremque\\nveniam nisi eos ...  \n",
      "\n",
      "[500 rows x 5 columns]\n"
     ]
    }
   ],
   "source": [
    "try :\n",
    "    df = pd.read_json(consumer_data_address)\n",
    "    print(df)\n",
    "except HTTPError as e:\n",
    "    print(e)"
   ]
  },
  {
   "cell_type": "code",
   "execution_count": 67,
   "id": "4b0a3076674ace5f",
   "metadata": {
    "ExecuteTime": {
     "end_time": "2025-10-23T13:12:00.661404Z",
     "start_time": "2025-10-22T15:09:02.081853Z"
    }
   },
   "outputs": [
    {
     "name": "stdout",
     "output_type": "stream",
     "text": [
      "{\n",
      "  \"message\": \"Unexpected response from the Provider\",\n",
      "  \"error_code\": 2200,\n",
      "  \"details\": null\n",
      "}\n"
     ]
    }
   ],
   "source": [
    "url = data_space_consumer + \"/api/v1/transfers/rpc/setup-start\"\n",
    "payload = {\n",
    "    \"providerParticipantId\": data_space_provider_participant_id,\n",
    "    \"providerPid\": transfer_provider_id,\n",
    "    \"consumerPid\": transfer_consumer_id,\n",
    "}\n",
    "response = requests.request(\"POST\", url, headers=json_header, data=json.dumps(payload))\n",
    "response_as_json = response.json()\n",
    "print(json.dumps(response_as_json, indent=2))"
   ]
  },
  {
   "cell_type": "code",
   "execution_count": 68,
   "id": "49197782572c3e99",
   "metadata": {
    "ExecuteTime": {
     "end_time": "2025-10-23T13:12:00.662142Z",
     "start_time": "2025-10-22T15:09:02.276436Z"
    }
   },
   "outputs": [
    {
     "name": "stdout",
     "output_type": "stream",
     "text": [
      "     postId   id                                               name  \\\n",
      "0         1    1                       id labore ex et quam laborum   \n",
      "1         1    2          quo vero reiciendis velit similique earum   \n",
      "2         1    3                      odio adipisci rerum aut animi   \n",
      "3         1    4                                     alias odio sit   \n",
      "4         1    5              vero eaque aliquid doloribus et culpa   \n",
      "..      ...  ...                                                ...   \n",
      "495     100  496  et occaecati asperiores quas voluptas ipsam no...   \n",
      "496     100  497             doloribus dolores ut dolores occaecati   \n",
      "497     100  498                           dolores minus aut libero   \n",
      "498     100  499  excepturi sunt cum a et rerum quo voluptatibus...   \n",
      "499     100  500                                 ex eaque eum natus   \n",
      "\n",
      "                            email  \\\n",
      "0              Eliseo@gardner.biz   \n",
      "1          Jayne_Kuhic@sydney.com   \n",
      "2             Nikita@garfield.biz   \n",
      "3                   Lew@alysha.tv   \n",
      "4               Hayden@althea.biz   \n",
      "..                            ...   \n",
      "495               Zola@lizzie.com   \n",
      "496             Dolly@mandy.co.uk   \n",
      "497             Davion@eldora.net   \n",
      "498  Wilburn_Labadie@araceli.name   \n",
      "499                Emma@joanny.ca   \n",
      "\n",
      "                                                  body  \n",
      "0    laudantium enim quasi est quidem magnam volupt...  \n",
      "1    est natus enim nihil est dolore omnis voluptat...  \n",
      "2    quia molestiae reprehenderit quasi aspernatur\\...  \n",
      "3    non et atque\\noccaecati deserunt quas accusant...  \n",
      "4    harum non quasi et ratione\\ntempore iure ex vo...  \n",
      "..                                                 ...  \n",
      "495  neque unde voluptatem iure\\nodio excepturi ips...  \n",
      "496  non dolor consequatur\\nlaboriosam ut deserunt ...  \n",
      "497  aliquam pariatur suscipit fugiat eos sunt\\nopt...  \n",
      "498  et necessitatibus tempora ipsum quaerat invent...  \n",
      "499  perspiciatis quis doloremque\\nveniam nisi eos ...  \n",
      "\n",
      "[500 rows x 5 columns]\n"
     ]
    }
   ],
   "source": [
    "try :\n",
    "    df = pd.read_json(consumer_data_address)\n",
    "    print(df)\n",
    "except HTTPError as e:\n",
    "    print(e)"
   ]
  },
  {
   "cell_type": "code",
   "execution_count": 69,
   "id": "b1ec9698272484c3",
   "metadata": {
    "ExecuteTime": {
     "end_time": "2025-10-23T13:12:00.663351Z",
     "start_time": "2025-10-22T15:09:03.703680Z"
    }
   },
   "outputs": [
    {
     "name": "stdout",
     "output_type": "stream",
     "text": [
      "{\n",
      "  \"providerPid\": \"urn:uuid:9b5da683-7210-497b-94bf-f8de247209e7\",\n",
      "  \"consumerPid\": \"urn:uuid:39466a70-e81b-447d-8986-dcad56b1fbfd\",\n",
      "  \"message\": {\n",
      "    \"@context\": [\n",
      "      \"https://w3id.org/dspace/2025/1/context.jsonld\"\n",
      "    ],\n",
      "    \"@type\": \"TransferProcess\",\n",
      "    \"providerPid\": \"urn:uuid:9b5da683-7210-497b-94bf-f8de247209e7\",\n",
      "    \"consumerPid\": \"urn:uuid:39466a70-e81b-447d-8986-dcad56b1fbfd\",\n",
      "    \"state\": \"SUSPENDED\"\n",
      "  }\n",
      "}\n"
     ]
    }
   ],
   "source": [
    "url = data_space_provider + \"/api/v1/transfers/rpc/setup-suspension\"\n",
    "payload = {\n",
    "    \"consumerParticipantId\": data_space_consumer_participant_id,\n",
    "    \"consumerCallbackAddress\": callback_address,\n",
    "    \"providerPid\": transfer_provider_id,\n",
    "    \"consumerPid\": transfer_consumer_id,\n",
    "}\n",
    "response = requests.request(\"POST\", url, headers=json_header, data=json.dumps(payload))\n",
    "response_as_json = response.json()\n",
    "print(json.dumps(response_as_json, indent=2))"
   ]
  },
  {
   "cell_type": "code",
   "execution_count": 70,
   "id": "a3bf1f3c1beb4e3",
   "metadata": {
    "ExecuteTime": {
     "end_time": "2025-10-23T13:12:00.770046Z",
     "start_time": "2025-10-23T13:12:00.690901Z"
    }
   },
   "outputs": [
    {
     "name": "stdout",
     "output_type": "stream",
     "text": [
      "{\n",
      "  \"providerPid\": \"urn:uuid:9b5da683-7210-497b-94bf-f8de247209e7\",\n",
      "  \"consumerPid\": \"urn:uuid:39466a70-e81b-447d-8986-dcad56b1fbfd\",\n",
      "  \"message\": {\n",
      "    \"@context\": [\n",
      "      \"https://w3id.org/dspace/2025/1/context.jsonld\"\n",
      "    ],\n",
      "    \"@type\": \"TransferProcess\",\n",
      "    \"providerPid\": \"urn:uuid:9b5da683-7210-497b-94bf-f8de247209e7\",\n",
      "    \"consumerPid\": \"urn:uuid:39466a70-e81b-447d-8986-dcad56b1fbfd\",\n",
      "    \"state\": \"COMPLETED\"\n",
      "  }\n",
      "}\n"
     ]
    }
   ],
   "source": [
    "url = data_space_provider + \"/api/v1/transfers/rpc/setup-completion\"\n",
    "payload = {\n",
    "    \"consumerParticipantId\": data_space_consumer_participant_id,\n",
    "    \"consumerCallbackAddress\": callback_address,\n",
    "    \"providerPid\": transfer_provider_id,\n",
    "    \"consumerPid\": transfer_consumer_id,\n",
    "}\n",
    "response = requests.request(\"POST\", url, headers=json_header, data=json.dumps(payload))\n",
    "response_as_json = response.json()\n",
    "print(json.dumps(response_as_json, indent=2))"
   ]
  },
  {
   "cell_type": "code",
   "execution_count": null,
   "id": "b0228ad8522b7a49",
   "metadata": {
    "ExecuteTime": {
     "end_time": "2025-10-23T13:12:00.879156Z",
     "start_time": "2025-10-23T13:12:00.876132Z"
    }
   },
   "outputs": [],
   "source": []
  },
  {
   "cell_type": "code",
   "execution_count": null,
   "id": "99b0cb0b417c143a",
   "metadata": {
    "ExecuteTime": {
     "end_time": "2025-10-23T13:12:01.061426Z",
     "start_time": "2025-10-23T13:12:01.059638Z"
    }
   },
   "outputs": [],
   "source": []
  },
  {
   "cell_type": "code",
   "execution_count": null,
   "id": "a60358323bff1fad",
   "metadata": {
    "ExecuteTime": {
     "end_time": "2025-10-23T13:12:01.249317Z",
     "start_time": "2025-10-23T13:12:01.247580Z"
    }
   },
   "outputs": [],
   "source": []
  },
  {
   "cell_type": "code",
   "execution_count": null,
   "id": "b0cde08f81af69f3",
   "metadata": {
    "ExecuteTime": {
     "end_time": "2025-10-22T15:09:04.259297Z",
     "start_time": "2025-10-22T15:09:04.257548Z"
    }
   },
   "outputs": [],
   "source": []
  }
 ],
 "metadata": {
  "kernelspec": {
   "display_name": ".venv (3.13.8)",
   "language": "python",
   "name": "python3"
  },
  "language_info": {
   "codemirror_mode": {
    "name": "ipython",
    "version": 3
   },
   "file_extension": ".py",
   "mimetype": "text/x-python",
   "name": "python",
   "nbconvert_exporter": "python",
   "pygments_lexer": "ipython3",
   "version": "3.13.8"
  }
 },
 "nbformat": 5,
 "nbformat_minor": 9
}
